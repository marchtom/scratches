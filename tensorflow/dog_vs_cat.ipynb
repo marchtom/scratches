{
 "cells": [
  {
   "cell_type": "markdown",
   "metadata": {},
   "source": [
    "Dog vs Cat classifier by TFlearn"
   ]
  },
  {
   "cell_type": "code",
   "execution_count": 1,
   "metadata": {},
   "outputs": [
    {
     "name": "stdout",
     "output_type": "stream",
     "text": [
      "curses is not supported on this machine (please install/reinstall curses for an optimal experience)\n"
     ]
    }
   ],
   "source": [
    "import tflearn\n",
    "import numpy as np\n",
    "import pandas as pd\n",
    "import matplotlib.pyplot as plt\n",
    "from tqdm import tqdm\n",
    "import cv2\n",
    "import os\n",
    "from random import shuffle\n",
    "from sklearn.model_selection import train_test_split\n",
    "import tensorflow as tf"
   ]
  },
  {
   "cell_type": "code",
   "execution_count": 2,
   "metadata": {},
   "outputs": [],
   "source": [
    "from tflearn.layers.conv import conv_2d, max_pool_2d\n",
    "from tflearn.layers.core import input_data, dropout, fully_connected\n",
    "from tflearn.layers.estimator import regression\n",
    "from tflearn.layers.normalization import local_response_normalization"
   ]
  },
  {
   "cell_type": "code",
   "execution_count": 3,
   "metadata": {},
   "outputs": [],
   "source": [
    "from tensorflow.python.client import device_lib"
   ]
  },
  {
   "cell_type": "code",
   "execution_count": 4,
   "metadata": {},
   "outputs": [
    {
     "data": {
      "text/plain": [
       "[name: \"/device:CPU:0\"\n",
       " device_type: \"CPU\"\n",
       " memory_limit: 268435456\n",
       " locality {\n",
       " }\n",
       " incarnation: 6143417922183432069, name: \"/device:GPU:0\"\n",
       " device_type: \"GPU\"\n",
       " memory_limit: 3239886848\n",
       " locality {\n",
       "   bus_id: 1\n",
       " }\n",
       " incarnation: 582489442860582084\n",
       " physical_device_desc: \"device: 0, name: GeForce GTX 970, pci bus id: 0000:01:00.0, compute capability: 5.2\"]"
      ]
     },
     "execution_count": 4,
     "metadata": {},
     "output_type": "execute_result"
    }
   ],
   "source": [
    "device_lib.list_local_devices()"
   ]
  },
  {
   "cell_type": "code",
   "execution_count": 5,
   "metadata": {},
   "outputs": [
    {
     "name": "stdout",
     "output_type": "stream",
     "text": [
      "[[ 22.  28.]\n",
      " [ 49.  64.]]\n"
     ]
    }
   ],
   "source": [
    "with tf.device('/device:GPU:0'):\n",
    "    a = tf.constant([1.0, 2.0, 3.0, 4.0, 5.0, 6.0], shape=[2, 3], name='a')\n",
    "    b = tf.constant([1.0, 2.0, 3.0, 4.0, 5.0, 6.0], shape=[3, 2], name='b')\n",
    "\n",
    "c = tf.matmul(a, b)\n",
    "sess = tf.Session(config=tf.ConfigProto(log_device_placement=True, allow_soft_placement = True))\n",
    "print (sess.run(c))"
   ]
  },
  {
   "cell_type": "code",
   "execution_count": 20,
   "metadata": {},
   "outputs": [],
   "source": [
    "dataPath = 'train/train/'"
   ]
  },
  {
   "cell_type": "code",
   "execution_count": 11,
   "metadata": {},
   "outputs": [],
   "source": [
    "# pal: -1 (RGBA); 0 (grayscale); 1 (RGB)\n",
    "def loadAndResize(imgPath, *, size=64, pal=1, fill=True):\n",
    "    img = cv2.imread(imgPath, pal)\n",
    "    if img is None:\n",
    "        raise FileNotFoundError(f'File >{imgPath}< not found.')\n",
    "    if fill:\n",
    "        shape = np.shape(img)\n",
    "        if shape[0] > shape[1]:\n",
    "            bSize = int((shape[0] - shape[1])/2)\n",
    "            img = cv2.copyMakeBorder(img,0,0,bSize,bSize,cv2.BORDER_CONSTANT,value=[0,0,0])\n",
    "        else:\n",
    "            bSize = int((shape[1] - shape[0])/2)\n",
    "            img = cv2.copyMakeBorder(img,bSize,bSize,0,0,cv2.BORDER_CONSTANT,value=[0,0,0])\n",
    "    if pal != 0:\n",
    "        return cv2.cvtColor(cv2.resize(img, (size, size)), cv2.COLOR_BGR2RGB)\n",
    "    else: \n",
    "        return cv2.resize(img, (size, size))"
   ]
  },
  {
   "cell_type": "code",
   "execution_count": null,
   "metadata": {},
   "outputs": [],
   "source": [
    "path = 'train/train/cat.97.jpg'\n",
    "img = loadAndResize(path, size=32, pal=1, fill=True)\n",
    "plt.imshow(img, cmap='gray')\n",
    "plt.show()"
   ]
  },
  {
   "cell_type": "code",
   "execution_count": 64,
   "metadata": {},
   "outputs": [],
   "source": [
    "# 'onehot'\n",
    "cat = [1, 0]\n",
    "dog = [0, 1]"
   ]
  },
  {
   "cell_type": "code",
   "execution_count": 133,
   "metadata": {},
   "outputs": [
    {
     "name": "stderr",
     "output_type": "stream",
     "text": [
      "100%|███████████████████████████████████| 25000/25000 [00:51<00:00, 481.28it/s]\n"
     ]
    }
   ],
   "source": [
    "dataArray = []\n",
    "for file in tqdm(os.listdir(dataPath)):\n",
    "    if file[:3] == 'cat':\n",
    "        label = cat\n",
    "    elif file[:3] == 'dog':\n",
    "        label = dog\n",
    "    else:\n",
    "        label = [0, 0]\n",
    "    imgPath = dataPath+file\n",
    "    img = loadAndResize(imgPath, size=32, pal=1, fill=False)\n",
    "    dataArray.append([label, img])    "
   ]
  },
  {
   "cell_type": "code",
   "execution_count": 134,
   "metadata": {},
   "outputs": [],
   "source": [
    "# saving data array\n",
    "np.save('32x32_rgb.npy', dataArray)"
   ]
  },
  {
   "cell_type": "code",
   "execution_count": 88,
   "metadata": {},
   "outputs": [
    {
     "data": {
      "image/png": "[encoded data removed]",
      "text/plain": [
       "<matplotlib.figure.Figure at 0x17c87885b70>"
      ]
     },
     "metadata": {},
     "output_type": "display_data"
    }
   ],
   "source": [
    "plt.imshow(dataArray[23302][1])\n",
    "plt.show()"
   ]
  },
  {
   "cell_type": "code",
   "execution_count": 5,
   "metadata": {},
   "outputs": [],
   "source": [
    "# loading data\n",
    "data = np.load('32x32_rgb.npy')"
   ]
  },
  {
   "cell_type": "code",
   "execution_count": 6,
   "metadata": {},
   "outputs": [],
   "source": [
    "#y_data, x_data = data.transpose()\n",
    "x_data = np.array([i[1] for i in data]).reshape(-1, 32, 32, 3)\n",
    "y_data = [i[0] for i in data]"
   ]
  },
  {
   "cell_type": "code",
   "execution_count": 4,
   "metadata": {},
   "outputs": [
    {
     "data": {
      "text/plain": [
       "(25000, 32, 32, 3)"
      ]
     },
     "execution_count": 4,
     "metadata": {},
     "output_type": "execute_result"
    }
   ],
   "source": [
    "np.shape(x_data)"
   ]
  },
  {
   "cell_type": "code",
   "execution_count": 5,
   "metadata": {},
   "outputs": [],
   "source": [
    "# shuffling and splitting\n",
    "x_train, x_test, y_train, y_test = train_test_split(x_data, y_data, test_size=0.2, random_state=1)"
   ]
  },
  {
   "cell_type": "code",
   "execution_count": 6,
   "metadata": {},
   "outputs": [
    {
     "data": {
      "text/plain": [
       "(20000, 32, 32, 3)"
      ]
     },
     "execution_count": 6,
     "metadata": {},
     "output_type": "execute_result"
    }
   ],
   "source": [
    "np.shape(x_train)"
   ]
  },
  {
   "cell_type": "code",
   "execution_count": 7,
   "metadata": {},
   "outputs": [],
   "source": [
    "y_train = np.vstack(y_train)\n",
    "y_test = np.vstack(y_test)"
   ]
  },
  {
   "cell_type": "code",
   "execution_count": 8,
   "metadata": {},
   "outputs": [],
   "source": [
    "imgSize = 32\n",
    "pal = 3 # 3 for RGB"
   ]
  },
  {
   "cell_type": "code",
   "execution_count": 9,
   "metadata": {},
   "outputs": [
    {
     "data": {
      "text/plain": [
       "2000"
      ]
     },
     "execution_count": 9,
     "metadata": {},
     "output_type": "execute_result"
    }
   ],
   "source": [
    "len(x_train[:2000])"
   ]
  },
  {
   "cell_type": "code",
   "execution_count": 10,
   "metadata": {},
   "outputs": [],
   "source": [
    "X_train = x_train#[:2000]\n",
    "Y_train = y_train#[:2000]\n",
    "X_test = x_test#[:500]\n",
    "Y_test = y_test#[:500]"
   ]
  },
  {
   "cell_type": "code",
   "execution_count": 11,
   "metadata": {},
   "outputs": [
    {
     "data": {
      "text/plain": [
       "(20000, 32, 32, 3)"
      ]
     },
     "execution_count": 11,
     "metadata": {},
     "output_type": "execute_result"
    }
   ],
   "source": [
    "np.shape(x_train)"
   ]
  },
  {
   "cell_type": "code",
   "execution_count": 12,
   "metadata": {},
   "outputs": [
    {
     "data": {
      "text/plain": [
       "(20000, 32, 32, 3)"
      ]
     },
     "execution_count": 12,
     "metadata": {},
     "output_type": "execute_result"
    }
   ],
   "source": [
    "np.shape(X_train)"
   ]
  },
  {
   "cell_type": "code",
   "execution_count": 13,
   "metadata": {},
   "outputs": [
    {
     "data": {
      "text/plain": [
       "(20000, 2)"
      ]
     },
     "execution_count": 13,
     "metadata": {},
     "output_type": "execute_result"
    }
   ],
   "source": [
    "np.shape(Y_train)"
   ]
  },
  {
   "cell_type": "code",
   "execution_count": 14,
   "metadata": {},
   "outputs": [
    {
     "data": {
      "image/png": "[encoded data removed]",
      "text/plain": [
       "<matplotlib.figure.Figure at 0x1bad0f41240>"
      ]
     },
     "metadata": {},
     "output_type": "display_data"
    },
    {
     "name": "stdout",
     "output_type": "stream",
     "text": [
      "[1 0]\n"
     ]
    }
   ],
   "source": [
    "i = 12021\n",
    "plt.imshow(X_train[i].reshape(32,32,3))\n",
    "plt.show()\n",
    "print (Y_train[i])"
   ]
  },
  {
   "cell_type": "code",
   "execution_count": 3,
   "metadata": {},
   "outputs": [],
   "source": [
    "imgSize = 32\n",
    "pal = 3\n",
    "\n",
    "# loading data\n",
    "data = np.load('32x32_rgb.npy')\n",
    "\n",
    "#y_data, x_data = data.transpose()\n",
    "x_data = np.array([i[1] for i in data]).reshape(-1, 32, 32, 3)\n",
    "y_data = [i[0] for i in data]\n",
    "\n",
    "# shuffling and splitting\n",
    "x_train, x_test, y_train, y_test = train_test_split(x_data, y_data, test_size=0.2, random_state=1)\n",
    "\n",
    "y_train = np.vstack(y_train)\n",
    "y_test = np.vstack(y_test)\n",
    "\n",
    "X_train = x_train#[:2000]\n",
    "Y_train = y_train#[:2000]\n",
    "X_test = x_test#[:500]\n",
    "Y_test = y_test#[:500]"
   ]
  },
  {
   "cell_type": "code",
   "execution_count": 8,
   "metadata": {},
   "outputs": [
    {
     "data": {
      "text/plain": [
       "array([[ 22.,  28.],\n",
       "       [ 49.,  64.]], dtype=float32)"
      ]
     },
     "execution_count": 8,
     "metadata": {},
     "output_type": "execute_result"
    }
   ],
   "source": [
    "with tf.device('/device:GPU:0'):\n",
    "    a = tf.constant([1.0, 2.0, 3.0, 4.0, 5.0, 6.0], shape=[2, 3], name='a')\n",
    "    b = tf.constant([1.0, 2.0, 3.0, 4.0, 5.0, 6.0], shape=[3, 2], name='b')\n",
    "\n",
    "#for i in range(100000):\n",
    "c = tf.matmul(a, b)\n",
    "sess = tf.Session(config=tf.ConfigProto(log_device_placement=True))\n",
    "sess.run(c)"
   ]
  },
  {
   "cell_type": "code",
   "execution_count": 14,
   "metadata": {
    "scrolled": false
   },
   "outputs": [],
   "source": [
    "# reset\n",
    "tf.reset_default_graph()\n",
    "\n",
    "tflearn.init_graph(num_cores=4, gpu_memory_fraction=0.5, soft_placement=True)\n",
    "\n",
    "# input layer\n",
    "inp = input_data(shape=[None, imgSize, imgSize, 3], name = 'input')\n",
    "\n",
    "# conv_2d and pooling layers\n",
    "conv1 = conv_2d(inp, 64, 2, activation='relu')\n",
    "pool1 = max_pool_2d(conv1, 2)\n",
    "\n",
    "conv2 = conv_2d(pool1, 64, 2, activation='relu')\n",
    "pool2 = max_pool_2d(conv2, 2)\n",
    "\n",
    "conv3 = conv_2d(pool2, 64, 2, activation='relu')\n",
    "pool3 = max_pool_2d(conv3, 2)\n",
    "\n",
    "conv4 = conv_2d(pool3,64, 2, activation='relu')\n",
    "pool4 = max_pool_2d(conv4, 2)\n",
    "\n",
    "conv5 = conv_2d(pool4, 64, 2, activation='relu')\n",
    "pool5 = max_pool_2d(conv5, 2)\n",
    "\n",
    "conv6 = conv_2d(pool5,64, 2, activation='relu')\n",
    "pool6 = max_pool_2d(conv6, 2)\n",
    "\n",
    "# fully connected deep neural network\n",
    "fc1 = fully_connected(pool6, 512, activation='relu')\n",
    "drop1 = dropout(fc1, 0.8)\n",
    "out = fully_connected(drop1, 2, activation='softmax')\n",
    "\n",
    "# output layer\n",
    "cnn = regression(out, optimizer='adam', learning_rate=1e-3, loss='categorical_crossentropy', name='targets')\n",
    "\n",
    "model = tflearn.DNN(cnn, tensorboard_dir = 'log', tensorboard_verbose=3)\n"
   ]
  },
  {
   "cell_type": "code",
   "execution_count": 32,
   "metadata": {
    "scrolled": true
   },
   "outputs": [
    {
     "name": "stdout",
     "output_type": "stream",
     "text": [
      "---------------------------------\n",
      "Run id: dogVcat\n",
      "Log directory: log/\n",
      "INFO:tensorflow:Summary name Accuracy/Adam_0 (raw) is illegal; using Accuracy/Adam_0__raw_ instead.\n",
      "INFO:tensorflow:Summary name Accuracy_1/Adam_1 (raw) is illegal; using Accuracy_1/Adam_1__raw_ instead.\n",
      "---------------------------------\n",
      "Training samples: 40000\n",
      "Validation samples: 10000\n",
      "--\n"
     ]
    },
    {
     "ename": "InvalidArgumentError",
     "evalue": "You must feed a value for placeholder tensor 'input_1/X' with dtype float and shape [?,32,32,3]\n\t [[Node: input_1/X = Placeholder[dtype=DT_FLOAT, shape=[?,32,32,3], _device=\"/job:localhost/replica:0/task:0/device:GPU:0\"]()]]\n\t [[Node: FullyConnected_3/BiasAdd/_23 = _Recv[client_terminated=false, recv_device=\"/job:localhost/replica:0/task:0/device:CPU:0\", send_device=\"/job:localhost/replica:0/task:0/device:GPU:0\", send_device_incarnation=1, tensor_name=\"edge_125_FullyConnected_3/BiasAdd\", tensor_type=DT_FLOAT, _device=\"/job:localhost/replica:0/task:0/device:CPU:0\"]()]]\n\nCaused by op 'input_1/X', defined at:\n  File \"E:\\ProgramData\\Miniconda3\\lib\\runpy.py\", line 193, in _run_module_as_main\n    \"__main__\", mod_spec)\n  File \"E:\\ProgramData\\Miniconda3\\lib\\runpy.py\", line 85, in _run_code\n    exec(code, run_globals)\n  File \"E:\\ProgramData\\Miniconda3\\lib\\site-packages\\ipykernel_launcher.py\", line 16, in <module>\n    app.launch_new_instance()\n  File \"E:\\ProgramData\\Miniconda3\\lib\\site-packages\\traitlets\\config\\application.py\", line 658, in launch_instance\n    app.start()\n  File \"E:\\ProgramData\\Miniconda3\\lib\\site-packages\\ipykernel\\kernelapp.py\", line 477, in start\n    ioloop.IOLoop.instance().start()\n  File \"E:\\ProgramData\\Miniconda3\\lib\\site-packages\\zmq\\eventloop\\ioloop.py\", line 177, in start\n    super(ZMQIOLoop, self).start()\n  File \"E:\\ProgramData\\Miniconda3\\lib\\site-packages\\tornado\\ioloop.py\", line 888, in start\n    handler_func(fd_obj, events)\n  File \"E:\\ProgramData\\Miniconda3\\lib\\site-packages\\tornado\\stack_context.py\", line 277, in null_wrapper\n    return fn(*args, **kwargs)\n  File \"E:\\ProgramData\\Miniconda3\\lib\\site-packages\\zmq\\eventloop\\zmqstream.py\", line 440, in _handle_events\n    self._handle_recv()\n  File \"E:\\ProgramData\\Miniconda3\\lib\\site-packages\\zmq\\eventloop\\zmqstream.py\", line 472, in _handle_recv\n    self._run_callback(callback, msg)\n  File \"E:\\ProgramData\\Miniconda3\\lib\\site-packages\\zmq\\eventloop\\zmqstream.py\", line 414, in _run_callback\n    callback(*args, **kwargs)\n  File \"E:\\ProgramData\\Miniconda3\\lib\\site-packages\\tornado\\stack_context.py\", line 277, in null_wrapper\n    return fn(*args, **kwargs)\n  File \"E:\\ProgramData\\Miniconda3\\lib\\site-packages\\ipykernel\\kernelbase.py\", line 283, in dispatcher\n    return self.dispatch_shell(stream, msg)\n  File \"E:\\ProgramData\\Miniconda3\\lib\\site-packages\\ipykernel\\kernelbase.py\", line 235, in dispatch_shell\n    handler(stream, idents, msg)\n  File \"E:\\ProgramData\\Miniconda3\\lib\\site-packages\\ipykernel\\kernelbase.py\", line 399, in execute_request\n    user_expressions, allow_stdin)\n  File \"E:\\ProgramData\\Miniconda3\\lib\\site-packages\\ipykernel\\ipkernel.py\", line 196, in do_execute\n    res = shell.run_cell(code, store_history=store_history, silent=silent)\n  File \"E:\\ProgramData\\Miniconda3\\lib\\site-packages\\ipykernel\\zmqshell.py\", line 533, in run_cell\n    return super(ZMQInteractiveShell, self).run_cell(*args, **kwargs)\n  File \"E:\\ProgramData\\Miniconda3\\lib\\site-packages\\IPython\\core\\interactiveshell.py\", line 2698, in run_cell\n    interactivity=interactivity, compiler=compiler, result=result)\n  File \"E:\\ProgramData\\Miniconda3\\lib\\site-packages\\IPython\\core\\interactiveshell.py\", line 2802, in run_ast_nodes\n    if self.run_code(code, result):\n  File \"E:\\ProgramData\\Miniconda3\\lib\\site-packages\\IPython\\core\\interactiveshell.py\", line 2862, in run_code\n    exec(code_obj, self.user_global_ns, self.user_ns)\n  File \"<ipython-input-31-1ad1ecd3c9c5>\", line 7, in <module>\n    inp = input_data(shape=[None, imgSize, imgSize, 3], name = 'input')\n  File \"E:\\ProgramData\\Miniconda3\\lib\\site-packages\\tflearn\\layers\\core.py\", line 81, in input_data\n    placeholder = tf.placeholder(shape=shape, dtype=dtype, name=\"X\")\n  File \"E:\\ProgramData\\Miniconda3\\lib\\site-packages\\tensorflow\\python\\ops\\array_ops.py\", line 1599, in placeholder\n    return gen_array_ops._placeholder(dtype=dtype, shape=shape, name=name)\n  File \"E:\\ProgramData\\Miniconda3\\lib\\site-packages\\tensorflow\\python\\ops\\gen_array_ops.py\", line 3090, in _placeholder\n    \"Placeholder\", dtype=dtype, shape=shape, name=name)\n  File \"E:\\ProgramData\\Miniconda3\\lib\\site-packages\\tensorflow\\python\\framework\\op_def_library.py\", line 787, in _apply_op_helper\n    op_def=op_def)\n  File \"E:\\ProgramData\\Miniconda3\\lib\\site-packages\\tensorflow\\python\\framework\\ops.py\", line 2956, in create_op\n    op_def=op_def)\n  File \"E:\\ProgramData\\Miniconda3\\lib\\site-packages\\tensorflow\\python\\framework\\ops.py\", line 1470, in __init__\n    self._traceback = self._graph._extract_stack()  # pylint: disable=protected-access\n\nInvalidArgumentError (see above for traceback): You must feed a value for placeholder tensor 'input_1/X' with dtype float and shape [?,32,32,3]\n\t [[Node: input_1/X = Placeholder[dtype=DT_FLOAT, shape=[?,32,32,3], _device=\"/job:localhost/replica:0/task:0/device:GPU:0\"]()]]\n\t [[Node: FullyConnected_3/BiasAdd/_23 = _Recv[client_terminated=false, recv_device=\"/job:localhost/replica:0/task:0/device:CPU:0\", send_device=\"/job:localhost/replica:0/task:0/device:GPU:0\", send_device_incarnation=1, tensor_name=\"edge_125_FullyConnected_3/BiasAdd\", tensor_type=DT_FLOAT, _device=\"/job:localhost/replica:0/task:0/device:CPU:0\"]()]]\n",
     "output_type": "error",
     "traceback": [
      "\u001b[1;31m---------------------------------------------------------------------------\u001b[0m",
      "\u001b[1;31mInvalidArgumentError\u001b[0m                      Traceback (most recent call last)",
      "\u001b[1;32mE:\\ProgramData\\Miniconda3\\lib\\site-packages\\tensorflow\\python\\client\\session.py\u001b[0m in \u001b[0;36m_do_call\u001b[1;34m(self, fn, *args)\u001b[0m\n\u001b[0;32m   1322\u001b[0m     \u001b[1;32mtry\u001b[0m\u001b[1;33m:\u001b[0m\u001b[1;33m\u001b[0m\u001b[0m\n\u001b[1;32m-> 1323\u001b[1;33m       \u001b[1;32mreturn\u001b[0m \u001b[0mfn\u001b[0m\u001b[1;33m(\u001b[0m\u001b[1;33m*\u001b[0m\u001b[0margs\u001b[0m\u001b[1;33m)\u001b[0m\u001b[1;33m\u001b[0m\u001b[0m\n\u001b[0m\u001b[0;32m   1324\u001b[0m     \u001b[1;32mexcept\u001b[0m \u001b[0merrors\u001b[0m\u001b[1;33m.\u001b[0m\u001b[0mOpError\u001b[0m \u001b[1;32mas\u001b[0m \u001b[0me\u001b[0m\u001b[1;33m:\u001b[0m\u001b[1;33m\u001b[0m\u001b[0m\n",
      "\u001b[1;32mE:\\ProgramData\\Miniconda3\\lib\\site-packages\\tensorflow\\python\\client\\session.py\u001b[0m in \u001b[0;36m_run_fn\u001b[1;34m(session, feed_dict, fetch_list, target_list, options, run_metadata)\u001b[0m\n\u001b[0;32m   1301\u001b[0m                                    \u001b[0mfeed_dict\u001b[0m\u001b[1;33m,\u001b[0m \u001b[0mfetch_list\u001b[0m\u001b[1;33m,\u001b[0m \u001b[0mtarget_list\u001b[0m\u001b[1;33m,\u001b[0m\u001b[1;33m\u001b[0m\u001b[0m\n\u001b[1;32m-> 1302\u001b[1;33m                                    status, run_metadata)\n\u001b[0m\u001b[0;32m   1303\u001b[0m \u001b[1;33m\u001b[0m\u001b[0m\n",
      "\u001b[1;32mE:\\ProgramData\\Miniconda3\\lib\\site-packages\\tensorflow\\python\\framework\\errors_impl.py\u001b[0m in \u001b[0;36m__exit__\u001b[1;34m(self, type_arg, value_arg, traceback_arg)\u001b[0m\n\u001b[0;32m    472\u001b[0m             \u001b[0mcompat\u001b[0m\u001b[1;33m.\u001b[0m\u001b[0mas_text\u001b[0m\u001b[1;33m(\u001b[0m\u001b[0mc_api\u001b[0m\u001b[1;33m.\u001b[0m\u001b[0mTF_Message\u001b[0m\u001b[1;33m(\u001b[0m\u001b[0mself\u001b[0m\u001b[1;33m.\u001b[0m\u001b[0mstatus\u001b[0m\u001b[1;33m.\u001b[0m\u001b[0mstatus\u001b[0m\u001b[1;33m)\u001b[0m\u001b[1;33m)\u001b[0m\u001b[1;33m,\u001b[0m\u001b[1;33m\u001b[0m\u001b[0m\n\u001b[1;32m--> 473\u001b[1;33m             c_api.TF_GetCode(self.status.status))\n\u001b[0m\u001b[0;32m    474\u001b[0m     \u001b[1;31m# Delete the underlying status object from memory otherwise it stays alive\u001b[0m\u001b[1;33m\u001b[0m\u001b[1;33m\u001b[0m\u001b[0m\n",
      "\u001b[1;31mInvalidArgumentError\u001b[0m: You must feed a value for placeholder tensor 'input_1/X' with dtype float and shape [?,32,32,3]\n\t [[Node: input_1/X = Placeholder[dtype=DT_FLOAT, shape=[?,32,32,3], _device=\"/job:localhost/replica:0/task:0/device:GPU:0\"]()]]\n\t [[Node: FullyConnected_3/BiasAdd/_23 = _Recv[client_terminated=false, recv_device=\"/job:localhost/replica:0/task:0/device:CPU:0\", send_device=\"/job:localhost/replica:0/task:0/device:GPU:0\", send_device_incarnation=1, tensor_name=\"edge_125_FullyConnected_3/BiasAdd\", tensor_type=DT_FLOAT, _device=\"/job:localhost/replica:0/task:0/device:CPU:0\"]()]]",
      "\nDuring handling of the above exception, another exception occurred:\n",
      "\u001b[1;31mInvalidArgumentError\u001b[0m                      Traceback (most recent call last)",
      "\u001b[1;32m<ipython-input-32-fd94724f4293>\u001b[0m in \u001b[0;36m<module>\u001b[1;34m()\u001b[0m\n\u001b[0;32m      1\u001b[0m model.fit({'input': X_train}, {'targets': Y_train}, n_epoch=1, validation_set=({'input': X_test}, {'targets': Y_test}), \n\u001b[1;32m----> 2\u001b[1;33m     snapshot_step=100, show_metric=True, run_id='dogVcat')\n\u001b[0m",
      "\u001b[1;32mE:\\ProgramData\\Miniconda3\\lib\\site-packages\\tflearn\\models\\dnn.py\u001b[0m in \u001b[0;36mfit\u001b[1;34m(self, X_inputs, Y_targets, n_epoch, validation_set, show_metric, batch_size, shuffle, snapshot_epoch, snapshot_step, excl_trainops, validation_batch_size, run_id, callbacks)\u001b[0m\n\u001b[0;32m    214\u001b[0m                          \u001b[0mexcl_trainops\u001b[0m\u001b[1;33m=\u001b[0m\u001b[0mexcl_trainops\u001b[0m\u001b[1;33m,\u001b[0m\u001b[1;33m\u001b[0m\u001b[0m\n\u001b[0;32m    215\u001b[0m                          \u001b[0mrun_id\u001b[0m\u001b[1;33m=\u001b[0m\u001b[0mrun_id\u001b[0m\u001b[1;33m,\u001b[0m\u001b[1;33m\u001b[0m\u001b[0m\n\u001b[1;32m--> 216\u001b[1;33m                          callbacks=callbacks)\n\u001b[0m\u001b[0;32m    217\u001b[0m \u001b[1;33m\u001b[0m\u001b[0m\n\u001b[0;32m    218\u001b[0m     \u001b[1;32mdef\u001b[0m \u001b[0mfit_batch\u001b[0m\u001b[1;33m(\u001b[0m\u001b[0mself\u001b[0m\u001b[1;33m,\u001b[0m \u001b[0mX_inputs\u001b[0m\u001b[1;33m,\u001b[0m \u001b[0mY_targets\u001b[0m\u001b[1;33m)\u001b[0m\u001b[1;33m:\u001b[0m\u001b[1;33m\u001b[0m\u001b[0m\n",
      "\u001b[1;32mE:\\ProgramData\\Miniconda3\\lib\\site-packages\\tflearn\\helpers\\trainer.py\u001b[0m in \u001b[0;36mfit\u001b[1;34m(self, feed_dicts, n_epoch, val_feed_dicts, show_metric, snapshot_step, snapshot_epoch, shuffle_all, dprep_dict, daug_dict, excl_trainops, run_id, callbacks)\u001b[0m\n\u001b[0;32m    337\u001b[0m                                                        \u001b[1;33m(\u001b[0m\u001b[0mbool\u001b[0m\u001b[1;33m(\u001b[0m\u001b[0mself\u001b[0m\u001b[1;33m.\u001b[0m\u001b[0mbest_checkpoint_path\u001b[0m\u001b[1;33m)\u001b[0m \u001b[1;33m|\u001b[0m \u001b[0msnapshot_epoch\u001b[0m\u001b[1;33m)\u001b[0m\u001b[1;33m,\u001b[0m\u001b[1;33m\u001b[0m\u001b[0m\n\u001b[0;32m    338\u001b[0m                                                        \u001b[0msnapshot_step\u001b[0m\u001b[1;33m,\u001b[0m\u001b[1;33m\u001b[0m\u001b[0m\n\u001b[1;32m--> 339\u001b[1;33m                                                        show_metric)\n\u001b[0m\u001b[0;32m    340\u001b[0m \u001b[1;33m\u001b[0m\u001b[0m\n\u001b[0;32m    341\u001b[0m                             \u001b[1;31m# Update training state\u001b[0m\u001b[1;33m\u001b[0m\u001b[1;33m\u001b[0m\u001b[0m\n",
      "\u001b[1;32mE:\\ProgramData\\Miniconda3\\lib\\site-packages\\tflearn\\helpers\\trainer.py\u001b[0m in \u001b[0;36m_train\u001b[1;34m(self, training_step, snapshot_epoch, snapshot_step, show_metric)\u001b[0m\n\u001b[0;32m    816\u001b[0m         \u001b[0mtflearn\u001b[0m\u001b[1;33m.\u001b[0m\u001b[0mis_training\u001b[0m\u001b[1;33m(\u001b[0m\u001b[1;32mTrue\u001b[0m\u001b[1;33m,\u001b[0m \u001b[0msession\u001b[0m\u001b[1;33m=\u001b[0m\u001b[0mself\u001b[0m\u001b[1;33m.\u001b[0m\u001b[0msession\u001b[0m\u001b[1;33m)\u001b[0m\u001b[1;33m\u001b[0m\u001b[0m\n\u001b[0;32m    817\u001b[0m         _, train_summ_str = self.session.run([self.train, self.summ_op],\n\u001b[1;32m--> 818\u001b[1;33m                                              feed_batch)\n\u001b[0m\u001b[0;32m    819\u001b[0m \u001b[1;33m\u001b[0m\u001b[0m\n\u001b[0;32m    820\u001b[0m         \u001b[1;31m# Retrieve loss value from summary string\u001b[0m\u001b[1;33m\u001b[0m\u001b[1;33m\u001b[0m\u001b[0m\n",
      "\u001b[1;32mE:\\ProgramData\\Miniconda3\\lib\\site-packages\\tensorflow\\python\\client\\session.py\u001b[0m in \u001b[0;36mrun\u001b[1;34m(self, fetches, feed_dict, options, run_metadata)\u001b[0m\n\u001b[0;32m    887\u001b[0m     \u001b[1;32mtry\u001b[0m\u001b[1;33m:\u001b[0m\u001b[1;33m\u001b[0m\u001b[0m\n\u001b[0;32m    888\u001b[0m       result = self._run(None, fetches, feed_dict, options_ptr,\n\u001b[1;32m--> 889\u001b[1;33m                          run_metadata_ptr)\n\u001b[0m\u001b[0;32m    890\u001b[0m       \u001b[1;32mif\u001b[0m \u001b[0mrun_metadata\u001b[0m\u001b[1;33m:\u001b[0m\u001b[1;33m\u001b[0m\u001b[0m\n\u001b[0;32m    891\u001b[0m         \u001b[0mproto_data\u001b[0m \u001b[1;33m=\u001b[0m \u001b[0mtf_session\u001b[0m\u001b[1;33m.\u001b[0m\u001b[0mTF_GetBuffer\u001b[0m\u001b[1;33m(\u001b[0m\u001b[0mrun_metadata_ptr\u001b[0m\u001b[1;33m)\u001b[0m\u001b[1;33m\u001b[0m\u001b[0m\n",
      "\u001b[1;32mE:\\ProgramData\\Miniconda3\\lib\\site-packages\\tensorflow\\python\\client\\session.py\u001b[0m in \u001b[0;36m_run\u001b[1;34m(self, handle, fetches, feed_dict, options, run_metadata)\u001b[0m\n\u001b[0;32m   1118\u001b[0m     \u001b[1;32mif\u001b[0m \u001b[0mfinal_fetches\u001b[0m \u001b[1;32mor\u001b[0m \u001b[0mfinal_targets\u001b[0m \u001b[1;32mor\u001b[0m \u001b[1;33m(\u001b[0m\u001b[0mhandle\u001b[0m \u001b[1;32mand\u001b[0m \u001b[0mfeed_dict_tensor\u001b[0m\u001b[1;33m)\u001b[0m\u001b[1;33m:\u001b[0m\u001b[1;33m\u001b[0m\u001b[0m\n\u001b[0;32m   1119\u001b[0m       results = self._do_run(handle, final_targets, final_fetches,\n\u001b[1;32m-> 1120\u001b[1;33m                              feed_dict_tensor, options, run_metadata)\n\u001b[0m\u001b[0;32m   1121\u001b[0m     \u001b[1;32melse\u001b[0m\u001b[1;33m:\u001b[0m\u001b[1;33m\u001b[0m\u001b[0m\n\u001b[0;32m   1122\u001b[0m       \u001b[0mresults\u001b[0m \u001b[1;33m=\u001b[0m \u001b[1;33m[\u001b[0m\u001b[1;33m]\u001b[0m\u001b[1;33m\u001b[0m\u001b[0m\n",
      "\u001b[1;32mE:\\ProgramData\\Miniconda3\\lib\\site-packages\\tensorflow\\python\\client\\session.py\u001b[0m in \u001b[0;36m_do_run\u001b[1;34m(self, handle, target_list, fetch_list, feed_dict, options, run_metadata)\u001b[0m\n\u001b[0;32m   1315\u001b[0m     \u001b[1;32mif\u001b[0m \u001b[0mhandle\u001b[0m \u001b[1;32mis\u001b[0m \u001b[1;32mNone\u001b[0m\u001b[1;33m:\u001b[0m\u001b[1;33m\u001b[0m\u001b[0m\n\u001b[0;32m   1316\u001b[0m       return self._do_call(_run_fn, self._session, feeds, fetches, targets,\n\u001b[1;32m-> 1317\u001b[1;33m                            options, run_metadata)\n\u001b[0m\u001b[0;32m   1318\u001b[0m     \u001b[1;32melse\u001b[0m\u001b[1;33m:\u001b[0m\u001b[1;33m\u001b[0m\u001b[0m\n\u001b[0;32m   1319\u001b[0m       \u001b[1;32mreturn\u001b[0m \u001b[0mself\u001b[0m\u001b[1;33m.\u001b[0m\u001b[0m_do_call\u001b[0m\u001b[1;33m(\u001b[0m\u001b[0m_prun_fn\u001b[0m\u001b[1;33m,\u001b[0m \u001b[0mself\u001b[0m\u001b[1;33m.\u001b[0m\u001b[0m_session\u001b[0m\u001b[1;33m,\u001b[0m \u001b[0mhandle\u001b[0m\u001b[1;33m,\u001b[0m \u001b[0mfeeds\u001b[0m\u001b[1;33m,\u001b[0m \u001b[0mfetches\u001b[0m\u001b[1;33m)\u001b[0m\u001b[1;33m\u001b[0m\u001b[0m\n",
      "\u001b[1;32mE:\\ProgramData\\Miniconda3\\lib\\site-packages\\tensorflow\\python\\client\\session.py\u001b[0m in \u001b[0;36m_do_call\u001b[1;34m(self, fn, *args)\u001b[0m\n\u001b[0;32m   1334\u001b[0m         \u001b[1;32mexcept\u001b[0m \u001b[0mKeyError\u001b[0m\u001b[1;33m:\u001b[0m\u001b[1;33m\u001b[0m\u001b[0m\n\u001b[0;32m   1335\u001b[0m           \u001b[1;32mpass\u001b[0m\u001b[1;33m\u001b[0m\u001b[0m\n\u001b[1;32m-> 1336\u001b[1;33m       \u001b[1;32mraise\u001b[0m \u001b[0mtype\u001b[0m\u001b[1;33m(\u001b[0m\u001b[0me\u001b[0m\u001b[1;33m)\u001b[0m\u001b[1;33m(\u001b[0m\u001b[0mnode_def\u001b[0m\u001b[1;33m,\u001b[0m \u001b[0mop\u001b[0m\u001b[1;33m,\u001b[0m \u001b[0mmessage\u001b[0m\u001b[1;33m)\u001b[0m\u001b[1;33m\u001b[0m\u001b[0m\n\u001b[0m\u001b[0;32m   1337\u001b[0m \u001b[1;33m\u001b[0m\u001b[0m\n\u001b[0;32m   1338\u001b[0m   \u001b[1;32mdef\u001b[0m \u001b[0m_extend_graph\u001b[0m\u001b[1;33m(\u001b[0m\u001b[0mself\u001b[0m\u001b[1;33m)\u001b[0m\u001b[1;33m:\u001b[0m\u001b[1;33m\u001b[0m\u001b[0m\n",
      "\u001b[1;31mInvalidArgumentError\u001b[0m: You must feed a value for placeholder tensor 'input_1/X' with dtype float and shape [?,32,32,3]\n\t [[Node: input_1/X = Placeholder[dtype=DT_FLOAT, shape=[?,32,32,3], _device=\"/job:localhost/replica:0/task:0/device:GPU:0\"]()]]\n\t [[Node: FullyConnected_3/BiasAdd/_23 = _Recv[client_terminated=false, recv_device=\"/job:localhost/replica:0/task:0/device:CPU:0\", send_device=\"/job:localhost/replica:0/task:0/device:GPU:0\", send_device_incarnation=1, tensor_name=\"edge_125_FullyConnected_3/BiasAdd\", tensor_type=DT_FLOAT, _device=\"/job:localhost/replica:0/task:0/device:CPU:0\"]()]]\n\nCaused by op 'input_1/X', defined at:\n  File \"E:\\ProgramData\\Miniconda3\\lib\\runpy.py\", line 193, in _run_module_as_main\n    \"__main__\", mod_spec)\n  File \"E:\\ProgramData\\Miniconda3\\lib\\runpy.py\", line 85, in _run_code\n    exec(code, run_globals)\n  File \"E:\\ProgramData\\Miniconda3\\lib\\site-packages\\ipykernel_launcher.py\", line 16, in <module>\n    app.launch_new_instance()\n  File \"E:\\ProgramData\\Miniconda3\\lib\\site-packages\\traitlets\\config\\application.py\", line 658, in launch_instance\n    app.start()\n  File \"E:\\ProgramData\\Miniconda3\\lib\\site-packages\\ipykernel\\kernelapp.py\", line 477, in start\n    ioloop.IOLoop.instance().start()\n  File \"E:\\ProgramData\\Miniconda3\\lib\\site-packages\\zmq\\eventloop\\ioloop.py\", line 177, in start\n    super(ZMQIOLoop, self).start()\n  File \"E:\\ProgramData\\Miniconda3\\lib\\site-packages\\tornado\\ioloop.py\", line 888, in start\n    handler_func(fd_obj, events)\n  File \"E:\\ProgramData\\Miniconda3\\lib\\site-packages\\tornado\\stack_context.py\", line 277, in null_wrapper\n    return fn(*args, **kwargs)\n  File \"E:\\ProgramData\\Miniconda3\\lib\\site-packages\\zmq\\eventloop\\zmqstream.py\", line 440, in _handle_events\n    self._handle_recv()\n  File \"E:\\ProgramData\\Miniconda3\\lib\\site-packages\\zmq\\eventloop\\zmqstream.py\", line 472, in _handle_recv\n    self._run_callback(callback, msg)\n  File \"E:\\ProgramData\\Miniconda3\\lib\\site-packages\\zmq\\eventloop\\zmqstream.py\", line 414, in _run_callback\n    callback(*args, **kwargs)\n  File \"E:\\ProgramData\\Miniconda3\\lib\\site-packages\\tornado\\stack_context.py\", line 277, in null_wrapper\n    return fn(*args, **kwargs)\n  File \"E:\\ProgramData\\Miniconda3\\lib\\site-packages\\ipykernel\\kernelbase.py\", line 283, in dispatcher\n    return self.dispatch_shell(stream, msg)\n  File \"E:\\ProgramData\\Miniconda3\\lib\\site-packages\\ipykernel\\kernelbase.py\", line 235, in dispatch_shell\n    handler(stream, idents, msg)\n  File \"E:\\ProgramData\\Miniconda3\\lib\\site-packages\\ipykernel\\kernelbase.py\", line 399, in execute_request\n    user_expressions, allow_stdin)\n  File \"E:\\ProgramData\\Miniconda3\\lib\\site-packages\\ipykernel\\ipkernel.py\", line 196, in do_execute\n    res = shell.run_cell(code, store_history=store_history, silent=silent)\n  File \"E:\\ProgramData\\Miniconda3\\lib\\site-packages\\ipykernel\\zmqshell.py\", line 533, in run_cell\n    return super(ZMQInteractiveShell, self).run_cell(*args, **kwargs)\n  File \"E:\\ProgramData\\Miniconda3\\lib\\site-packages\\IPython\\core\\interactiveshell.py\", line 2698, in run_cell\n    interactivity=interactivity, compiler=compiler, result=result)\n  File \"E:\\ProgramData\\Miniconda3\\lib\\site-packages\\IPython\\core\\interactiveshell.py\", line 2802, in run_ast_nodes\n    if self.run_code(code, result):\n  File \"E:\\ProgramData\\Miniconda3\\lib\\site-packages\\IPython\\core\\interactiveshell.py\", line 2862, in run_code\n    exec(code_obj, self.user_global_ns, self.user_ns)\n  File \"<ipython-input-31-1ad1ecd3c9c5>\", line 7, in <module>\n    inp = input_data(shape=[None, imgSize, imgSize, 3], name = 'input')\n  File \"E:\\ProgramData\\Miniconda3\\lib\\site-packages\\tflearn\\layers\\core.py\", line 81, in input_data\n    placeholder = tf.placeholder(shape=shape, dtype=dtype, name=\"X\")\n  File \"E:\\ProgramData\\Miniconda3\\lib\\site-packages\\tensorflow\\python\\ops\\array_ops.py\", line 1599, in placeholder\n    return gen_array_ops._placeholder(dtype=dtype, shape=shape, name=name)\n  File \"E:\\ProgramData\\Miniconda3\\lib\\site-packages\\tensorflow\\python\\ops\\gen_array_ops.py\", line 3090, in _placeholder\n    \"Placeholder\", dtype=dtype, shape=shape, name=name)\n  File \"E:\\ProgramData\\Miniconda3\\lib\\site-packages\\tensorflow\\python\\framework\\op_def_library.py\", line 787, in _apply_op_helper\n    op_def=op_def)\n  File \"E:\\ProgramData\\Miniconda3\\lib\\site-packages\\tensorflow\\python\\framework\\ops.py\", line 2956, in create_op\n    op_def=op_def)\n  File \"E:\\ProgramData\\Miniconda3\\lib\\site-packages\\tensorflow\\python\\framework\\ops.py\", line 1470, in __init__\n    self._traceback = self._graph._extract_stack()  # pylint: disable=protected-access\n\nInvalidArgumentError (see above for traceback): You must feed a value for placeholder tensor 'input_1/X' with dtype float and shape [?,32,32,3]\n\t [[Node: input_1/X = Placeholder[dtype=DT_FLOAT, shape=[?,32,32,3], _device=\"/job:localhost/replica:0/task:0/device:GPU:0\"]()]]\n\t [[Node: FullyConnected_3/BiasAdd/_23 = _Recv[client_terminated=false, recv_device=\"/job:localhost/replica:0/task:0/device:CPU:0\", send_device=\"/job:localhost/replica:0/task:0/device:GPU:0\", send_device_incarnation=1, tensor_name=\"edge_125_FullyConnected_3/BiasAdd\", tensor_type=DT_FLOAT, _device=\"/job:localhost/replica:0/task:0/device:CPU:0\"]()]]\n"
     ]
    }
   ],
   "source": [
    "model.fit({'input': X_train}, {'targets': Y_train}, n_epoch=1, validation_set=({'input': X_test}, {'targets': Y_test}), \n",
    "    snapshot_step=100, show_metric=True, run_id='dogVcat')"
   ]
  },
  {
   "cell_type": "code",
   "execution_count": 29,
   "metadata": {},
   "outputs": [],
   "source": [
    "model.save(\"32x32_rgb_alexNet_22epoch\")"
   ]
  },
  {
   "cell_type": "markdown",
   "metadata": {},
   "source": [
    "Dla 32x32_gray_sq\n",
    "Training Step: 625  | total loss: 0.62602 | time: 30.830s\n",
    "| Adam | epoch: 002 | loss: 0.62602 - acc: 0.6475 -- iter: 19968/20000\n",
    "Training Step: 626  | total loss: 0.61981 | time: 32.439s\n",
    "| Adam | epoch: 002 | loss: 0.61981 - acc: 0.6484 | val_loss: 0.61314 - val_acc: 0.6658 -- iter: 20000/20000"
   ]
  },
  {
   "cell_type": "code",
   "execution_count": 16,
   "metadata": {},
   "outputs": [],
   "source": [
    "# reset\n",
    "tf.reset_default_graph()\n",
    "\n",
    "tflearn.init_graph(num_cores=3, gpu_memory_fraction=0.5, soft_placement=True)\n",
    "\n",
    "# Building 'AlexNet'\n",
    "#network = input_data(shape=[None, 227, 227, 3])\n",
    "network = input_data(shape=[None, 32, 32, 3], name = 'input')\n",
    "network = conv_2d(network, 96, 11, strides=4, activation='relu')\n",
    "network = max_pool_2d(network, 3, strides=2)\n",
    "network = local_response_normalization(network)\n",
    "network = conv_2d(network, 256, 5, activation='relu')\n",
    "network = max_pool_2d(network, 3, strides=2)\n",
    "network = local_response_normalization(network)\n",
    "network = conv_2d(network, 384, 3, activation='relu')\n",
    "network = conv_2d(network, 384, 3, activation='relu')\n",
    "network = conv_2d(network, 256, 3, activation='relu')\n",
    "network = max_pool_2d(network, 3, strides=2)\n",
    "network = local_response_normalization(network)\n",
    "network = fully_connected(network, 4096, activation='tanh')\n",
    "network = dropout(network, 0.5)\n",
    "network = fully_connected(network, 4096, activation='tanh')\n",
    "network = dropout(network, 0.5)\n",
    "network = fully_connected(network, 2, activation='linear')\n",
    "network = regression(network, optimizer='momentum',\n",
    "                     loss='categorical_crossentropy', learning_rate=0.001, name='targets')\n",
    "\n",
    "# Training\n",
    "model = tflearn.DNN(network, checkpoint_path='model_alexnet',\n",
    "                    max_checkpoints=1, tensorboard_verbose=0)\n"
   ]
  },
  {
   "cell_type": "code",
   "execution_count": null,
   "metadata": {},
   "outputs": [],
   "source": [
    "model.fit(X, Y, n_epoch=1000, validation_set=0.1, shuffle=True,\n",
    "          show_metric=True, batch_size=64, snapshot_step=200,\n",
    "          snapshot_epoch=False, run_id='alexnet_oxflowers17')"
   ]
  },
  {
   "cell_type": "code",
   "execution_count": 24,
   "metadata": {
    "scrolled": true
   },
   "outputs": [
    {
     "name": "stdout",
     "output_type": "stream",
     "text": [
      "Training Step: 6572  | total loss: 0.66923 | time: 72.752s\n",
      "| Momentum | epoch: 021 | loss: 0.66923 - acc: 0.7862 -- iter: 19968/20000\n",
      "Training Step: 6573  | total loss: 0.67519 | time: 74.074s\n",
      "| Momentum | epoch: 021 | loss: 0.67519 - acc: 0.7889 | val_loss: 1.08609 - val_acc: 0.7178 -- iter: 20000/20000\n",
      "--\n"
     ]
    }
   ],
   "source": [
    "model.fit({'input': X_train}, {'targets': Y_train}, n_epoch=20, validation_set=({'input': X_test}, {'targets': Y_test}), \n",
    "    snapshot_step=500, show_metric=True, run_id='dogVcatAlex')"
   ]
  },
  {
   "cell_type": "code",
   "execution_count": 25,
   "metadata": {},
   "outputs": [
    {
     "name": "stdout",
     "output_type": "stream",
     "text": [
      "Training Step: 7277  | total loss: 0.83033 | time: 80.465s\n",
      "| Momentum | epoch: 023 | loss: 0.83033 - acc: 0.8334 -- iter: 22500/22500\n"
     ]
    }
   ],
   "source": [
    "model.fit(x_data, y_data, n_epoch=2, validation_set=0.1, shuffle=True, batch_size=64,\n",
    "    snapshot_step=500, show_metric=True, snapshot_epoch=False, run_id='dogVcatAlex')"
   ]
  },
  {
   "cell_type": "code",
   "execution_count": null,
   "metadata": {},
   "outputs": [],
   "source": [
    "Dla 32x32 rgb 5 epoch 6x conv_2d 64 zapisany jako \"32x32_rgb_5epoch_2\"\n",
    "Training Step: 1564  | total loss: 0.45375 | time: 54.752s\n",
    "| Adam | epoch: 005 | loss: 0.45375 - acc: 0.7889 -- iter: 19968/20000\n",
    "Training Step: 1565  | total loss: 0.44643 | time: 57.749s\n",
    "| Adam | epoch: 005 | loss: 0.44643 - acc: 0.7897 | val_loss: 0.52722 - val_acc: 0.7346 -- iter: 20000/20000"
   ]
  },
  {
   "cell_type": "code",
   "execution_count": 33,
   "metadata": {},
   "outputs": [],
   "source": [
    "a= model.get_weights(conv1.W)"
   ]
  },
  {
   "cell_type": "code",
   "execution_count": 98,
   "metadata": {},
   "outputs": [
    {
     "data": {
      "image/png": "[encoded data removed]",
      "text/plain": [
       "<matplotlib.figure.Figure at 0x248cd9454e0>"
      ]
     },
     "metadata": {},
     "output_type": "display_data"
    }
   ],
   "source": [
    "np.shape(a[:,:,0,0])\n",
    "plt.imshow(a[:,:,1,1], cmap='gray')\n",
    "plt.show()"
   ]
  },
  {
   "cell_type": "code",
   "execution_count": 55,
   "metadata": {},
   "outputs": [
    {
     "name": "stdout",
     "output_type": "stream",
     "text": [
      "[-0.1993233   0.36422405  0.1609071   0.25161424 -0.07743172 -0.5798052\n",
      "  0.36876759 -0.10844667 -0.48757523  0.0526137   0.01635405  0.30735913\n",
      "  0.07678784  0.03685051 -0.03925821 -0.47774184  0.44665053 -0.01418198\n",
      "  0.19360572  0.12530039  0.35972649  0.40870118  0.27792007  0.32383284\n",
      "  0.35780084  0.12330174 -0.4482801  -0.16800912 -0.10941344  0.28307259\n",
      " -0.45504901 -0.27657643  0.38025376 -0.18032031  0.15933058  0.05784986\n",
      " -0.39832413  0.50624835 -0.38004115 -0.23503809  0.26861179 -0.05473418\n",
      "  0.1978012   0.27152988  0.22259973 -0.10495927  0.36233294 -0.03777635\n",
      " -0.13867278  0.20226513 -0.18932474  0.20118061  0.08462472  0.05703386\n",
      "  0.13300715  0.00381051  0.18060833  0.1730331   0.2837384   0.33721915\n",
      " -0.10079468 -0.28829798  0.05560361 -0.30042154]\n",
      "(64,)\n"
     ]
    },
    {
     "data": {
      "image/png": "[encoded data removed]",
      "text/plain": [
       "<matplotlib.figure.Figure at 0x248cdb66668>"
      ]
     },
     "metadata": {},
     "output_type": "display_data"
    }
   ],
   "source": [
    "a= model.get_weights(conv1.W)\n",
    "print (a[0][0][2])\n",
    "print (np.shape(a[0][0][0]))\n",
    "plt.imshow(a[0][0][2].reshape(8,8))\n",
    "plt.show()"
   ]
  },
  {
   "cell_type": "code",
   "execution_count": 76,
   "metadata": {
    "scrolled": true
   },
   "outputs": [
    {
     "data": {
      "text/plain": [
       "(3, 64)"
      ]
     },
     "execution_count": 76,
     "metadata": {},
     "output_type": "execute_result"
    }
   ],
   "source": [
    "a[:][:][0][0]"
   ]
  },
  {
   "cell_type": "code",
   "execution_count": 77,
   "metadata": {},
   "outputs": [
    {
     "data": {
      "text/plain": [
       "array([[[[-0.32055947,  0.28483343,  0.16479571, -0.40249917,  0.11584079,\n",
       "           0.14109536, -0.06919578, -0.32498595, -0.51821858,  0.07099102,\n",
       "          -0.43031576, -0.1939317 , -0.01621412, -0.5353111 , -0.0214664 ,\n",
       "           0.55404645, -0.25717041,  0.07998914,  0.40589741,  0.13964817,\n",
       "           0.03965844, -0.34495708, -0.39081636,  0.17555247,  0.23363307,\n",
       "           0.45099691,  0.39668491, -0.38447285, -0.50639385,  0.12824465,\n",
       "          -0.00104914, -0.02355938,  0.03993056,  0.20155317, -0.35833681,\n",
       "          -0.37435642, -0.24907508, -0.06453323, -0.39495718,  0.35707244,\n",
       "          -0.44460306,  0.39410332, -0.503236  , -0.0639666 , -0.22148375,\n",
       "           0.04273763, -0.06247628,  0.44928125, -0.48652896, -0.25953883,\n",
       "           0.39058113,  0.28613263,  0.0091463 , -0.25111777,  0.174049  ,\n",
       "           0.00094358, -0.45385924,  0.34398207,  0.26764813, -0.04704221,\n",
       "           0.48214084,  0.07286244,  0.18268402, -0.3343513 ],\n",
       "         [-0.52758056, -0.15599664, -0.2561416 ,  0.2115609 ,  0.21485145,\n",
       "           0.31716657,  0.24300826,  0.29041439,  0.14326738, -0.03367504,\n",
       "          -0.43066239, -0.15752482, -0.12370521,  0.42629191, -0.38249031,\n",
       "          -0.19736622,  0.04329184,  0.00619723, -0.27881375, -0.17105997,\n",
       "          -0.02728196,  0.08462298,  0.28302425, -0.54561466,  0.09636047,\n",
       "           0.18210365,  0.15369569, -0.18680792,  0.40785056,  0.43310642,\n",
       "          -0.19358484, -0.12930238, -0.2598832 , -0.10255726,  0.28550857,\n",
       "          -0.42709339, -0.28077734, -0.31821391,  0.26802066, -0.43107295,\n",
       "           0.03368929, -0.1707499 , -0.33188379, -0.41640353, -0.40425646,\n",
       "          -0.20843168, -0.12493601, -0.44480973,  0.29776138,  0.10541755,\n",
       "           0.02270985,  0.13753596, -0.17883262, -0.05057165, -0.36344987,\n",
       "           0.01329872, -0.13302545,  0.33651242,  0.01643043,  0.03782864,\n",
       "           0.23756592, -0.3383036 ,  0.12112027, -0.1440943 ],\n",
       "         [-0.1993233 ,  0.36422405,  0.1609071 ,  0.25161424, -0.07743172,\n",
       "          -0.5798052 ,  0.36876759, -0.10844667, -0.48757523,  0.0526137 ,\n",
       "           0.01635405,  0.30735913,  0.07678784,  0.03685051, -0.03925821,\n",
       "          -0.47774184,  0.44665053, -0.01418198,  0.19360572,  0.12530039,\n",
       "           0.35972649,  0.40870118,  0.27792007,  0.32383284,  0.35780084,\n",
       "           0.12330174, -0.4482801 , -0.16800912, -0.10941344,  0.28307259,\n",
       "          -0.45504901, -0.27657643,  0.38025376, -0.18032031,  0.15933058,\n",
       "           0.05784986, -0.39832413,  0.50624835, -0.38004115, -0.23503809,\n",
       "           0.26861179, -0.05473418,  0.1978012 ,  0.27152988,  0.22259973,\n",
       "          -0.10495927,  0.36233294, -0.03777635, -0.13867278,  0.20226513,\n",
       "          -0.18932474,  0.20118061,  0.08462472,  0.05703386,  0.13300715,\n",
       "           0.00381051,  0.18060833,  0.1730331 ,  0.2837384 ,  0.33721915,\n",
       "          -0.10079468, -0.28829798,  0.05560361, -0.30042154]],\n",
       "\n",
       "        [[ 0.49432734,  0.27140602, -0.37389609,  0.01757299,  0.02095392,\n",
       "           0.14432238,  0.01020744, -0.03320991, -0.07404362, -0.1815636 ,\n",
       "           0.12136182, -0.16246505, -0.08335309,  0.2247573 ,  0.1161282 ,\n",
       "          -0.08000809,  0.38963431, -0.10164885,  0.00386589, -0.47470796,\n",
       "          -0.43952677, -0.32263568,  0.14899477,  0.32743165,  0.10448181,\n",
       "          -0.02099551, -0.05410006, -0.11714894,  0.2497988 , -0.04311638,\n",
       "          -0.11846448, -0.23305005, -0.40154293, -0.09976256, -0.34931874,\n",
       "          -0.53883308,  0.42929864, -0.46774176,  0.26949474, -0.10817327,\n",
       "           0.4561826 ,  0.13477427, -0.53389192, -0.48695964,  0.07687185,\n",
       "          -0.39177135,  0.22556588,  0.04314781,  0.4625988 , -0.1886671 ,\n",
       "          -0.45942906,  0.26349625,  0.15760796, -0.34033513, -0.30900943,\n",
       "          -0.45234233,  0.43358576, -0.36907279, -0.0956386 ,  0.44205657,\n",
       "           0.06777603,  0.26594526,  0.28381982, -0.09275852],\n",
       "         [-0.34625155, -0.41748971,  0.45812607, -0.19968566, -0.47559977,\n",
       "           0.02972212,  0.12007307, -0.19002193, -0.32271561,  0.22783053,\n",
       "           0.39741698, -0.38081542,  0.35731009,  0.11123708,  0.21940993,\n",
       "           0.37088671, -0.08899597, -0.31223553, -0.34142962,  0.04339267,\n",
       "           0.32259479, -0.50068557, -0.48816648,  0.37261713, -0.28384817,\n",
       "          -0.34592   , -0.35296342,  0.25895524, -0.21495937,  0.25401118,\n",
       "           0.33075064, -0.44489402, -0.32118693, -0.41103867,  0.30399159,\n",
       "          -0.11433329,  0.00997719,  0.3602981 ,  0.49154276,  0.46299365,\n",
       "          -0.31614691,  0.43176457,  0.27425036, -0.04642815, -0.39186656,\n",
       "           0.22993799,  0.11190836, -0.36203891, -0.42409942,  0.38388449,\n",
       "           0.13371111, -0.20525038, -0.07826189,  0.0202362 , -0.19473216,\n",
       "           0.31977117,  0.39612153, -0.48566362, -0.53915322,  0.2221753 ,\n",
       "           0.40519428, -0.06730905, -0.025775  ,  0.13197027],\n",
       "         [ 0.33738491, -0.34376216,  0.05131898,  0.35228443,  0.19286361,\n",
       "           0.19948329,  0.37955266, -0.04979434,  0.34054071,  0.18987496,\n",
       "           0.01024787,  0.03890046, -0.3111386 ,  0.36818489,  0.2032419 ,\n",
       "          -0.47353059,  0.11552665,  0.3370434 , -0.11945906, -0.21825209,\n",
       "           0.04197069,  0.40299624, -0.39465597, -0.14424568, -0.30478805,\n",
       "           0.29570997,  0.30209082,  0.05688108,  0.48434392, -0.51748008,\n",
       "          -0.23914111, -0.08138923, -0.010926  ,  0.21308684, -0.49064294,\n",
       "           0.35416868, -0.34606096,  0.22696443, -0.34166995,  0.12684709,\n",
       "          -0.06347463, -0.13218252,  0.33665097,  0.20099534,  0.29223362,\n",
       "          -0.14620993, -0.12394489,  0.14411072,  0.3546679 , -0.21809211,\n",
       "           0.30619103, -0.15574914,  0.27142632, -0.25423381, -0.42958704,\n",
       "           0.14534524, -0.15846173,  0.28330237, -0.25104427, -0.52146786,\n",
       "          -0.40750706, -0.43979537, -0.07064175,  0.45214707]]],\n",
       "\n",
       "\n",
       "       [[[ 0.482629  , -0.37738973, -0.4662118 , -0.38508779,  0.16627973,\n",
       "          -0.15050182, -0.16433534,  0.15764366,  0.48793185,  0.3989931 ,\n",
       "           0.44387537, -0.1881543 , -0.24779086,  0.21449618, -0.12465457,\n",
       "           0.2240729 ,  0.29318967,  0.34759945,  0.31151167,  0.33933392,\n",
       "           0.38152161, -0.31413174, -0.0530499 ,  0.2862449 ,  0.46543616,\n",
       "           0.11133232,  0.12092305,  0.11972622, -0.0027584 , -0.14344664,\n",
       "          -0.06572074,  0.14054413, -0.31367427,  0.32873553, -0.21945374,\n",
       "           0.37643248,  0.27102536, -0.18971942,  0.32867312,  0.10204169,\n",
       "          -0.28362066, -0.30303171,  0.33874428,  0.23427242, -0.08081621,\n",
       "           0.30928218, -0.27261913,  0.29069626, -0.36010826, -0.5268935 ,\n",
       "          -0.54771084,  0.03128904,  0.2367737 ,  0.2033776 ,  0.09791631,\n",
       "           0.25205517, -0.38837457, -0.06652498,  0.06960294,  0.43013623,\n",
       "          -0.47093332,  0.12981008,  0.16349299,  0.00440262],\n",
       "         [-0.24692762,  0.04738292,  0.30872348, -0.19321854,  0.03440557,\n",
       "           0.04885315,  0.10682158,  0.10701775, -0.05356147,  0.25957364,\n",
       "           0.46123341,  0.36941409, -0.10289872,  0.33989015,  0.30960605,\n",
       "          -0.31766298, -0.04946866,  0.06384954,  0.13972078, -0.03547442,\n",
       "          -0.23234589, -0.31547496,  0.27335945, -0.27483487, -0.46055961,\n",
       "          -0.29078385,  0.38853714,  0.36816958, -0.07072573,  0.1358624 ,\n",
       "           0.41187358,  0.18947367,  0.52944541, -0.04978091,  0.43868405,\n",
       "           0.42317042,  0.24061711,  0.14271894,  0.16446128, -0.2718308 ,\n",
       "          -0.40253174,  0.33762884,  0.33217469,  0.22729923, -0.43709421,\n",
       "          -0.17608634,  0.21663854,  0.21205609, -0.09658325, -0.38745171,\n",
       "           0.39832944,  0.21203314,  0.1106471 ,  0.35244307,  0.07471234,\n",
       "           0.03012899,  0.51232654, -0.08336395,  0.33842292,  0.42762128,\n",
       "           0.31867489,  0.28169444,  0.06045626, -0.13388182],\n",
       "         [ 0.31238514, -0.27091852,  0.25851482,  0.33553132, -0.32657993,\n",
       "           0.11554246,  0.42290193,  0.3354418 ,  0.51758361, -0.5074327 ,\n",
       "          -0.19352867,  0.3888824 ,  0.38213956, -0.40281332, -0.28555372,\n",
       "           0.3213048 ,  0.18684371, -0.49136248,  0.40973312,  0.41213906,\n",
       "          -0.50256121,  0.33688217,  0.03453339,  0.45356274, -0.30103844,\n",
       "          -0.36081102, -0.36210507, -0.3361994 ,  0.38589436, -0.04553344,\n",
       "          -0.04531658,  0.32533145, -0.32021934, -0.37837559,  0.4564735 ,\n",
       "           0.01114909,  0.46779561,  0.04081715, -0.37623429, -0.10642784,\n",
       "          -0.22447005, -0.39280453, -0.01574268, -0.29714313, -0.35706899,\n",
       "          -0.058236  , -0.36573821,  0.03100414, -0.20785753,  0.08807642,\n",
       "           0.37793189,  0.40979668,  0.26233041,  0.26089785,  0.4062115 ,\n",
       "          -0.3386271 , -0.10756735, -0.35088864,  0.14775468,  0.00522367,\n",
       "          -0.49827182,  0.34277102,  0.30472386, -0.27456376]],\n",
       "\n",
       "        [[-0.36432484,  0.46830943,  0.11134869,  0.35065728,  0.15248358,\n",
       "           0.21495087,  0.01697519, -0.09989942, -0.39307344, -0.26357457,\n",
       "          -0.38979891,  0.29843709,  0.42924768, -0.23019217,  0.30379894,\n",
       "           0.2068844 , -0.41796383,  0.16692506, -0.50444764, -0.49800211,\n",
       "          -0.33284444,  0.07403561,  0.43240511, -0.27375117,  0.35159168,\n",
       "          -0.17026921, -0.06322308,  0.32060218,  0.07756514,  0.42390737,\n",
       "          -0.09790479, -0.00702121,  0.50127757, -0.06361941, -0.38363829,\n",
       "           0.18983282,  0.20208268, -0.07316291, -0.34318879,  0.00430485,\n",
       "           0.20725334, -0.44259453, -0.27718273,  0.46940726, -0.32388625,\n",
       "          -0.04367692, -0.25680065,  0.17982753,  0.13151878,  0.35882676,\n",
       "          -0.40924966, -0.16602953,  0.37671944, -0.39849457,  0.16483805,\n",
       "          -0.31037006, -0.04900734,  0.40854737,  0.01216414, -0.235073  ,\n",
       "           0.4444809 , -0.36786026,  0.06482448,  0.06790717],\n",
       "         [ 0.1664771 ,  0.23587364, -0.20514414, -0.50084597,  0.23578101,\n",
       "          -0.13476057, -0.49336269,  0.1226874 , -0.34587109,  0.04336458,\n",
       "           0.24164057,  0.07977124, -0.13307759, -0.3895593 , -0.56165111,\n",
       "          -0.37430006, -0.46662474, -0.57289416, -0.28366095,  0.42087489,\n",
       "           0.20850743,  0.03140211,  0.06919627, -0.40210196, -0.27927727,\n",
       "          -0.49149299, -0.15568747, -0.20248295, -0.21200991,  0.3935954 ,\n",
       "           0.43033883,  0.25520152, -0.18931852,  0.22411534,  0.23668227,\n",
       "           0.19249226, -0.37647822,  0.18032368,  0.5411185 ,  0.05507435,\n",
       "           0.15957174,  0.12103412, -0.4205088 , -0.18567437,  0.2162258 ,\n",
       "           0.2005121 ,  0.23841009, -0.42129877,  0.11494496,  0.32392913,\n",
       "          -0.27425927, -0.51245975, -0.36746913,  0.33254406,  0.40817428,\n",
       "           0.05556324, -0.12839229, -0.51340151, -0.48055151,  0.44913876,\n",
       "          -0.23421517,  0.03779542, -0.02829167, -0.02340099],\n",
       "         [-0.158769  , -0.26899233,  0.45772916,  0.25738293, -0.37785041,\n",
       "          -0.47883922, -0.37906814,  0.06369004,  0.32754469, -0.33404669,\n",
       "          -0.31018189, -0.22113802, -0.27169016,  0.46456718,  0.22459805,\n",
       "           0.25836286, -0.05960062,  0.43753806, -0.03134855,  0.40857145,\n",
       "           0.20946349,  0.435794  , -0.08390808,  0.04849721,  0.0531075 ,\n",
       "          -0.03069169,  0.12340477,  0.3118993 , -0.4286595 , -0.1297389 ,\n",
       "           0.19860052, -0.08461835,  0.48636508, -0.2432542 ,  0.20601754,\n",
       "          -0.0042906 ,  0.08820733, -0.23010167, -0.36131498, -0.49178928,\n",
       "           0.38931617,  0.08619232,  0.48851773,  0.0104523 , -0.43179142,\n",
       "           0.41457695,  0.45541984,  0.07014165,  0.37052733,  0.30708373,\n",
       "           0.4301742 , -0.23332949, -0.0920613 ,  0.23954414, -0.07157418,\n",
       "           0.33959121, -0.06624079,  0.4013069 ,  0.01919387, -0.50873774,\n",
       "          -0.40370932,  0.30648047,  0.3833631 ,  0.31656238]]]], dtype=float32)"
      ]
     },
     "execution_count": 77,
     "metadata": {},
     "output_type": "execute_result"
    }
   ],
   "source": [
    "a"
   ]
  },
  {
   "cell_type": "code",
   "execution_count": 105,
   "metadata": {},
   "outputs": [
    {
     "data": {
      "image/png": "[encoded data removed]",
      "text/plain": [
       "<matplotlib.figure.Figure at 0x248d20d1320>"
      ]
     },
     "metadata": {},
     "output_type": "display_data"
    }
   ],
   "source": [
    "f, axarr = plt.subplots(8, 8)\n",
    "'''axarr[0, 0].imshow(a[0][0][0].reshape(8,8))\n",
    "axarr[1, 0].imshow(a[0][0][0].reshape(8,8))\n",
    "axarr[0, 1].imshow(a[0][0][0].reshape(8,8))\n",
    "axarr[1, 1].imshow(a[0][0][0].reshape(8,8))\n",
    "'''\n",
    "for i in range(8):\n",
    "    for j in range(8):\n",
    "        axarr[i, j].imshow(a[:,:,1,i*8+j], cmap='gray')\n",
    "plt.show()"
   ]
  },
  {
   "cell_type": "code",
   "execution_count": null,
   "metadata": {},
   "outputs": [],
   "source": []
  },
  {
   "cell_type": "code",
   "execution_count": null,
   "metadata": {},
   "outputs": [],
   "source": []
  },
  {
   "cell_type": "code",
   "execution_count": 31,
   "metadata": {},
   "outputs": [
    {
     "data": {
      "image/png": "[encoded data removed]",
      "text/plain": [
       "<matplotlib.figure.Figure at 0x2026af09dd8>"
      ]
     },
     "metadata": {},
     "output_type": "display_data"
    },
    {
     "data": {
      "text/plain": [
       "array([[ 2.87998557,  5.24917555]], dtype=float32)"
      ]
     },
     "execution_count": 31,
     "metadata": {},
     "output_type": "execute_result"
    }
   ],
   "source": [
    "img = loadAndResize('pies1.jpg', size=32, fill=False, pal=1)\n",
    "plt.imshow(img)\n",
    "plt.show()\n",
    "img = img.reshape(-1, 32, 32, 3)\n",
    "model.predict(img)"
   ]
  },
  {
   "cell_type": "code",
   "execution_count": 32,
   "metadata": {},
   "outputs": [
    {
     "ename": "TypeError",
     "evalue": "Required argument 'org' (pos 3) not found",
     "output_type": "error",
     "traceback": [
      "\u001b[1;31m---------------------------------------------------------------------------\u001b[0m",
      "\u001b[1;31mTypeError\u001b[0m                                 Traceback (most recent call last)",
      "\u001b[1;32m<ipython-input-32-679426bd9db9>\u001b[0m in \u001b[0;36m<module>\u001b[1;34m()\u001b[0m\n\u001b[1;32m----> 1\u001b[1;33m \u001b[0mimg2\u001b[0m \u001b[1;33m=\u001b[0m \u001b[0mcv2\u001b[0m\u001b[1;33m.\u001b[0m\u001b[0mputText\u001b[0m\u001b[1;33m(\u001b[0m\u001b[0mimg\u001b[0m\u001b[1;33m,\u001b[0m\u001b[1;34m\"Hello World!!!\"\u001b[0m\u001b[1;33m)\u001b[0m\u001b[1;33m\u001b[0m\u001b[0m\n\u001b[0m",
      "\u001b[1;31mTypeError\u001b[0m: Required argument 'org' (pos 3) not found"
     ]
    }
   ],
   "source": [
    "img2 = cv2.putText(img,\"Hello World!!!\")"
   ]
  },
  {
   "cell_type": "code",
   "execution_count": 18,
   "metadata": {},
   "outputs": [
    {
     "data": {
      "text/plain": [
       "<tensorflow.python.ops.variable_scope.variable_scope at 0x2132e970a58>"
      ]
     },
     "execution_count": 18,
     "metadata": {},
     "output_type": "execute_result"
    }
   ],
   "source": [
    "tf.variable_scope('conv1')"
   ]
  },
  {
   "cell_type": "code",
   "execution_count": null,
   "metadata": {},
   "outputs": [],
   "source": []
  }
 ],
 "metadata": {
  "kernelspec": {
   "display_name": "Python 3",
   "language": "python",
   "name": "python3"
  },
  "language_info": {
   "codemirror_mode": {
    "name": "ipython",
    "version": 3
   },
   "file_extension": ".py",
   "mimetype": "text/x-python",
   "name": "python",
   "nbconvert_exporter": "python",
   "pygments_lexer": "ipython3",
   "version": "3.6.2"
  }
 },
 "nbformat": 4,
 "nbformat_minor": 2
}
